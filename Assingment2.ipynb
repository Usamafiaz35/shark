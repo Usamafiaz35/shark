{
 "cells": [
  {
   "cell_type": "code",
   "execution_count": null,
   "id": "b4d545f4",
   "metadata": {},
   "outputs": [
    {
     "data": {
      "text/plain": [
       "'\\n\\n'"
      ]
     },
     "execution_count": 1,
     "metadata": {},
     "output_type": "execute_result"
    }
   ],
   "source": [
    "\"\"\"\n",
    "2. Sentiment Analyzer\n",
    "User inputs a sentence or tweet, and AI returns whether it's positive, negative, or neutral.\n",
    "\n",
    "\"\"\""
   ]
  },
  {
   "cell_type": "code",
   "execution_count": 38,
   "id": "13d9b537",
   "metadata": {},
   "outputs": [],
   "source": [
    "from langgraph.graph import StateGraph, START, END\n",
    "from langchain_openai import ChatOpenAI\n",
    "from dotenv import load_dotenv\n",
    "from typing import TypedDict, Literal\n",
    "from pydantic import BaseModel, Field"
   ]
  },
  {
   "cell_type": "code",
   "execution_count": 39,
   "id": "c6be0107",
   "metadata": {},
   "outputs": [],
   "source": [
    "load_dotenv()\n",
    "llm = ChatOpenAI(model='gpt-3.5-turbo')"
   ]
  },
  {
   "cell_type": "code",
   "execution_count": 40,
   "id": "cc36eb3e",
   "metadata": {},
   "outputs": [],
   "source": [
    "class SentimentSchema(BaseModel):\n",
    "    sentiment: Literal['positive', 'negative', 'neutral'] = Field(description='sentiment of the review')"
   ]
  },
  {
   "cell_type": "code",
   "execution_count": 42,
   "id": "66d9251c",
   "metadata": {},
   "outputs": [],
   "source": [
    "structured_llm = llm.with_structured_output(SentimentSchema)"
   ]
  },
  {
   "cell_type": "code",
   "execution_count": 43,
   "id": "63ddb9fa",
   "metadata": {},
   "outputs": [],
   "source": [
    "class SentimentAnalyzerState(TypedDict):\n",
    "    sentence: str\n",
    "    response: Literal['positive', 'negative', 'neutral']"
   ]
  },
  {
   "cell_type": "code",
   "execution_count": 44,
   "id": "36bd4149",
   "metadata": {},
   "outputs": [],
   "source": [
    "\n",
    "def analyzer(state: SentimentAnalyzerState):\n",
    "    # extract sentence from state\n",
    "    sentence = state['sentence']\n",
    "\n",
    "    # prompt\n",
    "    prompt = f\"Determine the sentiment (positive, negative, or neutral) of the following sentence or tweet:\\n\\n{sentence}\"\n",
    "\n",
    "    # llm\n",
    "    response = structured_llm.invoke(prompt)\n",
    "\n",
    "    return {'response': response.sentiment}\n"
   ]
  },
  {
   "cell_type": "code",
   "execution_count": 45,
   "id": "702cd00d",
   "metadata": {},
   "outputs": [
    {
     "data": {
      "image/png": "[encoded data removed]",
      "text/plain": [
       "<langgraph.graph.state.CompiledStateGraph object at 0x00000195D018E7E0>"
      ]
     },
     "execution_count": 45,
     "metadata": {},
     "output_type": "execute_result"
    }
   ],
   "source": [
    "# graph\n",
    "graph = StateGraph(SentimentAnalyzerState)\n",
    "\n",
    "# nodes\n",
    "graph.add_node('analyzer', analyzer)\n",
    "\n",
    "# edges\n",
    "graph.add_edge(START, 'analyzer')\n",
    "graph.add_edge('analyzer', END)\n",
    "\n",
    "# compile\n",
    "workflow = graph.compile()\n",
    "workflow"
   ]
  },
  {
   "cell_type": "code",
   "execution_count": 49,
   "id": "adab1762",
   "metadata": {},
   "outputs": [
    {
     "name": "stdout",
     "output_type": "stream",
     "text": [
      "negative\n"
     ]
    }
   ],
   "source": [
    "initial_state = {\n",
    "    \"sentence\": \"I used the lending app but this was a bad experience\"\n",
    "}\n",
    "result = workflow.invoke(initial_state)\n",
    "print(result['response'])"
   ]
  },
  {
   "cell_type": "code",
   "execution_count": 50,
   "id": "72655c27",
   "metadata": {},
   "outputs": [
    {
     "name": "stdout",
     "output_type": "stream",
     "text": [
      "positive\n"
     ]
    }
   ],
   "source": [
    "initial_state = {\n",
    "    \"sentence\": \"I used the lending app but this was so good experience\"\n",
    "}\n",
    "result = workflow.invoke(initial_state)\n",
    "print(result['response'])"
   ]
  },
  {
   "cell_type": "code",
   "execution_count": null,
   "id": "9bb3ffd5",
   "metadata": {},
   "outputs": [],
   "source": []
  }
 ],
 "metadata": {
  "kernelspec": {
   "display_name": "myenv (3.12.6)",
   "language": "python",
   "name": "python3"
  },
  "language_info": {
   "codemirror_mode": {
    "name": "ipython",
    "version": 3
   },
   "file_extension": ".py",
   "mimetype": "text/x-python",
   "name": "python",
   "nbconvert_exporter": "python",
   "pygments_lexer": "ipython3",
   "version": "3.12.6"
  }
 },
 "nbformat": 4,
 "nbformat_minor": 5
}
