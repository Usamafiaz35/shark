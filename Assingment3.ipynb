{
 "cells": [
  {
   "cell_type": "code",
   "execution_count": null,
   "id": "fceda15f",
   "metadata": {},
   "outputs": [],
   "source": [
    "\"\"\"\n",
    "3. Custom Resume Builder\n",
    "User enters experience and skills, and AI generates a resume draft.\n",
    "\n",
    "\"\"\""
   ]
  },
  {
   "cell_type": "code",
   "execution_count": 2,
   "id": "7c60b5b6",
   "metadata": {},
   "outputs": [],
   "source": [
    "from langgraph.graph import StateGraph, START, END\n",
    "from langchain_openai import ChatOpenAI\n",
    "from dotenv import load_dotenv\n",
    "from typing import TypedDict, List\n",
    "from pydantic import BaseModel, Field"
   ]
  },
  {
   "cell_type": "code",
   "execution_count": 3,
   "id": "b2e43cc6",
   "metadata": {},
   "outputs": [],
   "source": [
    "load_dotenv()\n",
    "llm = ChatOpenAI(model=\"gpt-3.5-turbo\")"
   ]
  },
  {
   "cell_type": "code",
   "execution_count": 5,
   "id": "4acc55ea",
   "metadata": {},
   "outputs": [],
   "source": [
    "# Define the structure for resume sections\n",
    "class ResumeSchema(BaseModel):\n",
    "    summary: str = Field(description=\"Professional summary\")\n",
    "    experience: List[str] = Field(description=\"List of work experiences\")\n",
    "    skills: List[str] = Field(description=\"List of skills\")\n",
    "    education: str = Field(description=\"Education background\")\n",
    "\n",
    "structured_llm = llm.with_structured_output(ResumeSchema)"
   ]
  },
  {
   "cell_type": "code",
   "execution_count": 6,
   "id": "57a85fa7",
   "metadata": {},
   "outputs": [],
   "source": [
    "class ResumeBuilderState(TypedDict):\n",
    "    user_experience: str\n",
    "    user_skills: str\n",
    "    response: ResumeSchema"
   ]
  },
  {
   "cell_type": "code",
   "execution_count": 7,
   "id": "f3588c0e",
   "metadata": {},
   "outputs": [],
   "source": [
    "def build_resume(state: ResumeBuilderState):\n",
    "    # Extract user inputs from state\n",
    "    experience = state[\"user_experience\"]\n",
    "    skills = state[\"user_skills\"]\n",
    "    \n",
    "    # Create prompt\n",
    "    prompt = f\"\"\"\n",
    "    Create a professional resume draft based on the following information:\n",
    "    \n",
    "    Experience: {experience}\n",
    "    Skills: {skills}\n",
    "    \n",
    "    Generate a complete resume with:\n",
    "    1. A professional summary (3-4 sentences)\n",
    "    2. Detailed work experience section (bullet points)\n",
    "    3. Skills section (categorized if possible)\n",
    "    4. Education section (assume standard if not provided)\n",
    "    \"\"\"\n",
    "    \n",
    "    # Get structured response from LLM\n",
    "    response = structured_llm.invoke(prompt)\n",
    "    \n",
    "    return {\"response\": response}\n"
   ]
  },
  {
   "cell_type": "code",
   "execution_count": 10,
   "id": "cf045c5f",
   "metadata": {},
   "outputs": [],
   "source": [
    "# Create the workflow graph\n",
    "graph = StateGraph(ResumeBuilderState)\n",
    "\n",
    "# Add nodes\n",
    "graph.add_node(\"resume_builder\", build_resume)\n",
    "\n",
    "# Add edges\n",
    "graph.add_edge(START, \"resume_builder\")\n",
    "graph.add_edge(\"resume_builder\", END)\n",
    "\n",
    "# Compile the workflow\n",
    "workflow = graph.compile()"
   ]
  },
  {
   "cell_type": "code",
   "execution_count": 12,
   "id": "46648c15",
   "metadata": {},
   "outputs": [
    {
     "data": {
      "image/png": "[encoded data removed]",
      "text/plain": [
       "<langgraph.graph.state.CompiledStateGraph object at 0x000001821B878170>"
      ]
     },
     "execution_count": 12,
     "metadata": {},
     "output_type": "execute_result"
    }
   ],
   "source": [
    "workflow"
   ]
  },
  {
   "cell_type": "code",
   "execution_count": 11,
   "id": "cbbb45de",
   "metadata": {},
   "outputs": [
    {
     "name": "stdout",
     "output_type": "stream",
     "text": [
      "summary='Experienced Python developer and Data Analyst with a strong background in data manipulation, analysis, and visualization. Proficient in Python, Pandas, SQL, Machine Learning, and Data Visualization. Demonstrated track record of delivering effective data-driven solutions and insights in various roles. Seeking opportunities to leverage expertise in a dynamic and collaborative environment.' experience=['Python Developer at TechCo (3 years)', 'Data Analyst at DataInc (2 years)'] skills=['Python', 'Pandas', 'SQL', 'Machine Learning', 'Data Visualization'] education=\"Bachelor's Degree in Computer Science\"\n"
     ]
    }
   ],
   "source": [
    "# Test the workflow\n",
    "initial_state = {\n",
    "    \"user_experience\": \"3 years as Python developer at TechCo, 2 years as Data Analyst at DataInc\",\n",
    "    \"user_skills\": \"Python, Pandas, SQL, Machine Learning, Data Visualization\"\n",
    "}\n",
    "\n",
    "result = workflow.invoke(initial_state)\n",
    "print(result[\"response\"])"
   ]
  },
  {
   "cell_type": "code",
   "execution_count": null,
   "id": "cbdde763",
   "metadata": {},
   "outputs": [],
   "source": []
  }
 ],
 "metadata": {
  "kernelspec": {
   "display_name": "myenv (3.12.6)",
   "language": "python",
   "name": "python3"
  },
  "language_info": {
   "codemirror_mode": {
    "name": "ipython",
    "version": 3
   },
   "file_extension": ".py",
   "mimetype": "text/x-python",
   "name": "python",
   "nbconvert_exporter": "python",
   "pygments_lexer": "ipython3",
   "version": "3.12.6"
  }
 },
 "nbformat": 4,
 "nbformat_minor": 5
}
