{
 "cells": [
  {
   "cell_type": "code",
   "execution_count": null,
   "id": "fb4ad556",
   "metadata": {},
   "outputs": [],
   "source": [
    "\"\"\"\n",
    "1. AI Writing Assistant\n",
    "Build a simple app where a user types a topic, and the AI generates a short blog post or paragraph.\n",
    "\n",
    "\"\"\""
   ]
  },
  {
   "cell_type": "code",
   "execution_count": 9,
   "id": "9618fee1",
   "metadata": {},
   "outputs": [],
   "source": [
    "from langgraph.graph import StateGraph, START, END\n",
    "from langchain_openai import ChatOpenAI\n",
    "from dotenv import load_dotenv\n",
    "from typing import TypedDict"
   ]
  },
  {
   "cell_type": "code",
   "execution_count": 10,
   "id": "e6a9390c",
   "metadata": {},
   "outputs": [
    {
     "data": {
      "text/plain": [
       "True"
      ]
     },
     "execution_count": 10,
     "metadata": {},
     "output_type": "execute_result"
    }
   ],
   "source": [
    "load_dotenv()"
   ]
  },
  {
   "cell_type": "code",
   "execution_count": 11,
   "id": "72267581",
   "metadata": {},
   "outputs": [],
   "source": [
    "model = ChatOpenAI(model = 'gpt-4o-mini')"
   ]
  },
  {
   "cell_type": "code",
   "execution_count": 12,
   "id": "969a7e62",
   "metadata": {},
   "outputs": [],
   "source": [
    "class AIWritingAssistantState(TypedDict):\n",
    "\n",
    "    topic: str\n",
    "    blog_post: str\n"
   ]
  },
  {
   "cell_type": "code",
   "execution_count": 21,
   "id": "6e3fad6a",
   "metadata": {},
   "outputs": [],
   "source": [
    "def gen_blog(state: AIWritingAssistantState):\n",
    "   \n",
    "    #extract topic from state \n",
    "    topic = state['topic']\n",
    "\n",
    "    #prompt\n",
    "    prompt = f\"\"\"Write a short, engaging blog post (150–200 words) on the topic: '{topic}'. The tone should be friendly and informative,\n",
    "    suitable for a general audience. Make sure the writing is clear, well-structured, and provides value or insight about the topic.\"\"\"\n",
    "    \n",
    "    #llm\n",
    "    answer = model.invoke(prompt).content\n",
    "\n",
    "    return {'blog_post': answer}"
   ]
  },
  {
   "cell_type": "code",
   "execution_count": 22,
   "id": "2ece16ca",
   "metadata": {},
   "outputs": [
    {
     "data": {
      "image/png": "[encoded data removed]",
      "text/plain": [
       "<langgraph.graph.state.CompiledStateGraph object at 0x000001A23B699E20>"
      ]
     },
     "execution_count": 22,
     "metadata": {},
     "output_type": "execute_result"
    }
   ],
   "source": [
    "#gragh\n",
    "graph = StateGraph(AIWritingAssistantState)\n",
    "\n",
    "#nodes\n",
    "graph.add_node('gen_blog', gen_blog)\n",
    "\n",
    "#edges\n",
    "graph.add_edge(START, 'gen_blog')\n",
    "graph.add_edge('gen_blog', END)\n",
    "\n",
    "#compile\n",
    "workflow = graph.compile()\n",
    "workflow\n"
   ]
  },
  {
   "cell_type": "code",
   "execution_count": 24,
   "id": "797779c2",
   "metadata": {},
   "outputs": [],
   "source": [
    "initial_state = {\"topic\": \"AI in Pakistan\"}\n",
    "final_state = workflow.invoke(initial_state)"
   ]
  },
  {
   "cell_type": "code",
   "execution_count": 27,
   "id": "c2945c4e",
   "metadata": {},
   "outputs": [
    {
     "data": {
      "text/plain": [
       "'**AI in Pakistan: Embracing the Future**\\n\\nArtificial Intelligence (AI) is revolutionizing industries around the world, and Pakistan is no exception. The country is experiencing a technological renaissance, with startups and educational institutions actively engaging in AI research and development. From healthcare to agriculture, the potential applications of AI are vast.\\n\\nIn healthcare, AI is helping doctors diagnose diseases more accurately and efficiently, which is crucial in a country with a growing population. For agriculture, AI-driven tools assist farmers in predicting crop yields and managing resources effectively, contributing to food security.\\n\\nMoreover, Pakistan’s vibrant youth population is fueling a surge in AI talent. Universities are incorporating AI courses into their curricula, fostering a new generation of innovators ready to tackle real-world challenges. Initiatives like the National AI Strategy are further propelling the country towards becoming a digital hub.\\n\\nAs Pakistan embraces this technological frontier, the future looks promising. By leveraging AI, the nation can unlock economic opportunities, drive progress, and improve the quality of life for its citizens. The journey has just begun, and the possibilities are endless!'"
      ]
     },
     "execution_count": 27,
     "metadata": {},
     "output_type": "execute_result"
    }
   ],
   "source": [
    "final_state['blog_post']"
   ]
  },
  {
   "cell_type": "code",
   "execution_count": null,
   "id": "6487b4ed",
   "metadata": {},
   "outputs": [],
   "source": []
  }
 ],
 "metadata": {
  "kernelspec": {
   "display_name": "myenv (3.12.6)",
   "language": "python",
   "name": "python3"
  },
  "language_info": {
   "codemirror_mode": {
    "name": "ipython",
    "version": 3
   },
   "file_extension": ".py",
   "mimetype": "text/x-python",
   "name": "python",
   "nbconvert_exporter": "python",
   "pygments_lexer": "ipython3",
   "version": "3.12.6"
  }
 },
 "nbformat": 4,
 "nbformat_minor": 5
}
